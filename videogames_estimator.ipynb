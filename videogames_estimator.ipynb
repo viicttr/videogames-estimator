{
 "cells": [
  {
   "cell_type": "markdown",
   "id": "dcf4475e-2e32-442f-b38e-c61b3cf19983",
   "metadata": {},
   "source": [
    "# VIDEOGAMES SUCCESS ESTIMATOR "
   ]
  },
  {
   "cell_type": "markdown",
   "id": "62e6dbbb-4938-49a0-bcbe-edcfead3b298",
   "metadata": {
    "tags": []
   },
   "source": [
    "#### INSTRUCTIONS: \n",
    "- Make sure the files **_videogames_functions.py_**, **_scaler.pkl_**, **_pca.pkl_**, **_tree_reg.pkl_**, **_data_videogames_success.csv_** and this file itself (**_videogames_estimator.ipynb_**) are in the same location/folder \n",
    "- Execute the first cell \n",
    "- Fill the dictionary in the second cell: \n",
    "    - Values in parent platforms 0 or 1 (0 if the videogame is available on that platform, 0 if not) \n",
    "    - Values in genres: 0 or 1 (0 if the videogame is about that gender, 0 if not) \n",
    "    - Value in released: released date in \"DD-MM-YYYY\" format (between quotes) \n",
    "- Execute the second cell to estimate the videogame success "
   ]
  },
  {
   "cell_type": "code",
   "execution_count": 53,
   "id": "76957993-5cd4-41f8-a0be-f8bd421b8d77",
   "metadata": {
    "tags": []
   },
   "outputs": [],
   "source": [
    "from videogames_functions import dic_dates, prediction \n",
    "import pandas as pd \n",
    "import numpy as np \n",
    "import warnings \n",
    "import joblib \n",
    "pd.set_option('display.max_colwidth', None)\n",
    "warnings.filterwarnings('ignore')\n",
    "\n",
    "sc = joblib.load('scaler.pkl')\n",
    "pca = joblib.load('pca.pkl')\n",
    "model = joblib.load('tree_reg.pkl')\n",
    "df_nuevos_datos = pd.read_csv('data_videogames_success.csv')"
   ]
  },
  {
   "cell_type": "code",
   "execution_count": 54,
   "id": "13b8c5fc-4e58-404b-8e69-6bc1eba33235",
   "metadata": {
    "tags": []
   },
   "outputs": [
    {
     "name": "stdout",
     "output_type": "stream",
     "text": [
      "\n",
      "\n",
      "Prediction:  [7] - Available values: 0, 1, 2, 3, 4, 5, 6, 7, 8 and 9 (ascending order based on success)\n",
      "\n",
      "\n",
      "The given videogame will have a success similar to the following ones (run again for more examples): \n",
      "\n",
      "\n",
      "366698                                      aragami-2\n",
      "3163                                            chess\n",
      "281                                    clouds-sheep-2\n",
      "248532                               romancing-saga-3\n",
      "18107                                   splinter-cell\n",
      "750                              slain-back-from-hell\n",
      "469505                                a-musical-story\n",
      "1660                                        worms-wmd\n",
      "50618                                     coffee-talk\n",
      "4090                                     dead-space-2\n",
      "11729                                           frost\n",
      "330827                       tony-hawks-pro-skater-12\n",
      "22657                       broken-sword-1-dc-espanol\n",
      "2530                                      knock-knock\n",
      "6164                                       samorost-3\n",
      "3303                                   child-of-light\n",
      "710030                                hogwarts-legacy\n",
      "9130                                 wizard-of-legend\n",
      "16520     ori-and-the-blind-forest-definitive-edition\n",
      "18094                    need-for-speed-hot-pursuit-2\n",
      "269116                     the-coma-2-vicious-sisters\n",
      "211566                               mortal-kombat-11\n",
      "192638                            rebel-galaxy-outlaw\n",
      "41624                                       simulacra\n",
      "50459                                      nba-2k19-2\n",
      "Name: slug, dtype: object\n",
      "\n",
      "\n"
     ]
    }
   ],
   "source": [
    "new_data_dic = {\n",
    "    '3do_parent': 0, # 0-1 # ----------------------------------------- PARENT PLATFORMS ----------------------------------------- \n",
    "    'android_parent': 1, # 0-1 \n",
    "    'atari_parent': 0, # 0-1 \n",
    "    'commodore-amiga_parent': 0, # 0-1 \n",
    "    'ios_parent': 0, # 0-1 \n",
    "    'linux_parent': 0, # 0-1 \n",
    "    'mac_parent': 0, # 0-1 \n",
    "    'neo-geo_parent': 0, # 0-1 \n",
    "    'nintendo_parent': 0, # 0-1 \n",
    "    'pc_parent': 1, # 0-1 \n",
    "    'playstation_parent': 1, # 0-1 \n",
    "    'sega_parent': 0, # 0-1 \n",
    "    'web_parent': 0, # 0-1 \n",
    "    'xbox_parent': 1, # 0-1 \n",
    "    'action': 1, # 0-1 # ----------------------------------------- GENRES ----------------------------------------- \n",
    "    'adventure': 0, # 0-1 \n",
    "    'arcade': 1, # 0-1 \n",
    "    'board-games': 0, # 0-1 \n",
    "    'card': 0, # 0-1 \n",
    "    'casual': 0, # 0-1 \n",
    "    'educational': 0, # 0-1 \n",
    "    'family': 0, # 0-1 \n",
    "    'fighting': 1, # 0-1 \n",
    "    'indie': 1, # 0-1 \n",
    "    'massively-multiplayer': 1, # 0-1 \n",
    "    'platformer': 1, # 0-1 \n",
    "    'puzzle': 0, # 0-1 \n",
    "    'racing': 0, # 0-1 \n",
    "    'role-playing-games-rpg': 1, # 0-1 \n",
    "    'shooter': 0, # 0-1 \n",
    "    'simulation': 0, # 0-1 \n",
    "    'sports': 0, # 0-1 \n",
    "    'strategy': 0, # 0-1 \n",
    "    'released': '20-03-2024' # ----------------------------------------- RELEASED DATE ----------------------------------------- \n",
    "}\n",
    "\n",
    "prediction_data = prediction(new_data_dic, sc, pca, model)\n",
    "print(\"\\n\") \n",
    "print(\"Prediction: \", prediction_data, \"- Available values: 0, 1, 2, 3, 4, 5, 6, 7, 8 and 9 (ascending order based on success)\") \n",
    "print(\"\\n\") \n",
    "print(\"The given videogame will have a success similar to the following ones (run again for more examples): \") \n",
    "print(\"\\n\") \n",
    "print(df_nuevos_datos[df_nuevos_datos['exito'] == prediction_data[0]]['slug'].sample(25)) \n",
    "print(\"\\n\") "
   ]
  }
 ],
 "metadata": {
  "kernelspec": {
   "display_name": "Python 3 (ipykernel)",
   "language": "python",
   "name": "python3"
  },
  "language_info": {
   "codemirror_mode": {
    "name": "ipython",
    "version": 3
   },
   "file_extension": ".py",
   "mimetype": "text/x-python",
   "name": "python",
   "nbconvert_exporter": "python",
   "pygments_lexer": "ipython3",
   "version": "3.11.5"
  }
 },
 "nbformat": 4,
 "nbformat_minor": 5
}
