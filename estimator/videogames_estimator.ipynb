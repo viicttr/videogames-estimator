{
 "cells": [
  {
   "cell_type": "markdown",
   "id": "dcf4475e-2e32-442f-b38e-c61b3cf19983",
   "metadata": {},
   "source": [
    "# VIDEOGAMES SUCCESS ESTIMATOR "
   ]
  },
  {
   "cell_type": "markdown",
   "id": "62e6dbbb-4938-49a0-bcbe-edcfead3b298",
   "metadata": {
    "tags": []
   },
   "source": [
    "#### INSTRUCTIONS: \n",
    "- Make sure the files **_videogames_functions.py_**, **_scaler.pkl_**, **_pca.pkl_**, **_tree_reg.pkl_**, **a csv folder** and this file itself (**_videogames_estimator.ipynb_**) are in the same location/folder \n",
    "- Execute the first cell \n",
    "- Fill the dictionary in the second cell: \n",
    "    - Values in parent platforms 0 or 1 (0 if the videogame is available on that platform, 0 if not) \n",
    "    - Values in genres: 0 or 1 (0 if the videogame is about that gender, 0 if not) \n",
    "    - Value in released: released date in \"DD-MM-YYYY\" format (between quotes) \n",
    "- Execute the second cell to estimate the videogame success "
   ]
  },
  {
   "cell_type": "code",
   "execution_count": 1,
   "id": "76957993-5cd4-41f8-a0be-f8bd421b8d77",
   "metadata": {
    "tags": []
   },
   "outputs": [
    {
     "name": "stdout",
     "output_type": "stream",
     "text": [
      "csv 1 loaded\n",
      "csv 2 loaded\n",
      "csv 3 loaded\n",
      "csv 4 loaded\n",
      "csv 5 loaded\n",
      "csv 6 loaded\n",
      "csv 7 loaded\n",
      "csv 8 loaded\n",
      "csv 9 loaded\n",
      "csv 10 loaded\n",
      "csv 11 loaded\n",
      "csv 12 loaded\n",
      "csv 13 loaded\n",
      "csv 14 loaded\n",
      "csv 15 loaded\n",
      "data loaded\n"
     ]
    }
   ],
   "source": [
    "from videogames_functions import dic_dates, prediction \n",
    "import pandas as pd \n",
    "import numpy as np \n",
    "import warnings \n",
    "import joblib \n",
    "pd.set_option('display.max_colwidth', None)\n",
    "warnings.filterwarnings('ignore')\n",
    "\n",
    "sc = joblib.load('scaler.pkl')\n",
    "pca = joblib.load('pca.pkl')\n",
    "model = joblib.load('tree_reg.pkl')\n",
    "df_nuevos_datos = pd.DataFrame()\n",
    "for i in range(1, 16): \n",
    "    ruta_csv = 'csv/data_videogames_success_' + str(i) + '.csv'\n",
    "    df_nuevos_datos = pd.concat([df_nuevos_datos, pd.read_csv(ruta_csv)]) \n",
    "    print(\"csv\", i, \"loaded\")\n",
    "df_nuevos_datos = df_nuevos_datos.drop_duplicates() \n",
    "print(\"data loaded\") "
   ]
  },
  {
   "cell_type": "code",
   "execution_count": 9,
   "id": "13b8c5fc-4e58-404b-8e69-6bc1eba33235",
   "metadata": {
    "tags": []
   },
   "outputs": [
    {
     "name": "stdout",
     "output_type": "stream",
     "text": [
      "\n",
      "\n",
      "Prediction:  [7] - Available values: 0, 1, 2, 3, 4, 5, 6, 7, 8 and 9 (ascending order based on success)\n",
      "\n",
      "\n",
      "The given videogame will have a success similar to the following ones (run again for more examples): \n",
      "\n",
      "\n",
      "26271                                  the-evil-within-2\n",
      "133                                       pinball-arcade\n",
      "44178                      dishonored-definitive-edition\n",
      "13067                                     call-of-duty-2\n",
      "38419                                  castaway-paradise\n",
      "4355                              tomb-raider-underworld\n",
      "3479                              trine-2-complete-story\n",
      "3942                                                myst\n",
      "74533                                            road-96\n",
      "9480                      darksiders-warmastered-edition\n",
      "49970                               resident-evil-2-2019\n",
      "17524    the-walking-dead-the-telltale-definitive-series\n",
      "21612                                          observer_\n",
      "1662                                             f1-2016\n",
      "3393                                         luftrausers\n",
      "2316                                         axiom-verge\n",
      "429                               kingdom-rush-frontiers\n",
      "9121                                          dungeons-3\n",
      "26088                           bang-on-balls-chronicles\n",
      "30716                                        going-under\n",
      "6129                                         bloons-td-5\n",
      "20835             the-legend-of-zelda-breath-of-the-wild\n",
      "20704                                           ion-fury\n",
      "458                                   read-only-memories\n",
      "3171                                    thomas-was-alone\n",
      "Name: slug, dtype: object\n",
      "\n",
      "\n"
     ]
    }
   ],
   "source": [
    "new_data_dic = {\n",
    "    '3do_parent': 0, # 0-1 # ----------------------------------------- PARENT PLATFORMS ----------------------------------------- \n",
    "    'android_parent': 1, # 0-1 \n",
    "    'atari_parent': 0, # 0-1 \n",
    "    'commodore-amiga_parent': 0, # 0-1 \n",
    "    'ios_parent': 0, # 0-1 \n",
    "    'linux_parent': 0, # 0-1 \n",
    "    'mac_parent': 0, # 0-1 \n",
    "    'neo-geo_parent': 0, # 0-1 \n",
    "    'nintendo_parent': 0, # 0-1 \n",
    "    'pc_parent': 1, # 0-1 \n",
    "    'playstation_parent': 1, # 0-1 \n",
    "    'sega_parent': 0, # 0-1 \n",
    "    'web_parent': 0, # 0-1 \n",
    "    'xbox_parent': 1, # 0-1 \n",
    "    'action': 1, # 0-1 # ----------------------------------------- GENRES ----------------------------------------- \n",
    "    'adventure': 0, # 0-1 \n",
    "    'arcade': 1, # 0-1 \n",
    "    'board-games': 0, # 0-1 \n",
    "    'card': 0, # 0-1 \n",
    "    'casual': 0, # 0-1 \n",
    "    'educational': 0, # 0-1 \n",
    "    'family': 0, # 0-1 \n",
    "    'fighting': 1, # 0-1 \n",
    "    'indie': 1, # 0-1 \n",
    "    'massively-multiplayer': 1, # 0-1 \n",
    "    'platformer': 1, # 0-1 \n",
    "    'puzzle': 0, # 0-1 \n",
    "    'racing': 0, # 0-1 \n",
    "    'role-playing-games-rpg': 1, # 0-1 \n",
    "    'shooter': 0, # 0-1 \n",
    "    'simulation': 0, # 0-1 \n",
    "    'sports': 0, # 0-1 \n",
    "    'strategy': 0, # 0-1 \n",
    "    'released': '20-03-2024' # ----------------------------------------- RELEASED DATE ----------------------------------------- \n",
    "}\n",
    "\n",
    "prediction_data = prediction(new_data_dic, sc, pca, model)\n",
    "print(\"\\n\") \n",
    "print(\"Prediction: \", prediction_data, \"- Available values: 0, 1, 2, 3, 4, 5, 6, 7, 8 and 9 (ascending order based on success)\") \n",
    "print(\"\\n\") \n",
    "print(\"The given videogame will have a success similar to the following ones (run again for more examples): \") \n",
    "print(\"\\n\") \n",
    "print(df_nuevos_datos[df_nuevos_datos['exito'] == prediction_data[0]]['slug'].sample(25)) \n",
    "print(\"\\n\") "
   ]
  }
 ],
 "metadata": {
  "kernelspec": {
   "display_name": "Python 3 (ipykernel)",
   "language": "python",
   "name": "python3"
  },
  "language_info": {
   "codemirror_mode": {
    "name": "ipython",
    "version": 3
   },
   "file_extension": ".py",
   "mimetype": "text/x-python",
   "name": "python",
   "nbconvert_exporter": "python",
   "pygments_lexer": "ipython3",
   "version": "3.11.5"
  }
 },
 "nbformat": 4,
 "nbformat_minor": 5
}
